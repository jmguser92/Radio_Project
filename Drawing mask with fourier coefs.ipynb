{
 "cells": [
  {
   "cell_type": "code",
   "execution_count": 1,
   "id": "385f223d",
   "metadata": {},
   "outputs": [],
   "source": [
    "import numpy as np\n",
    "import matplotlib.pyplot as plt\n",
    "import matplotlib.animation as animation\n",
    "import cv2\n",
    "from scipy.integrate import quad_vec"
   ]
  },
  {
   "cell_type": "markdown",
   "id": "bfacb248",
   "metadata": {},
   "source": [
    "## Import de l'image et extraction des contours ##"
   ]
  },
  {
   "cell_type": "code",
   "execution_count": 78,
   "id": "efbf6760",
   "metadata": {},
   "outputs": [
    {
     "data": {
      "image/png": "[encoded data removed]",
      "text/plain": [
       "<Figure size 640x480 with 1 Axes>"
      ]
     },
     "metadata": {},
     "output_type": "display_data"
    }
   ],
   "source": [
    "#Import de l'image et transformation en image binaire\n",
    "img = cv2.imread(\"img_10.jpg\")\n",
    "img_gray = cv2.cvtColor(img, cv2.COLOR_BGR2GRAY)\n",
    "ret, thresh = cv2.threshold(img_gray, 127, 255, 0)\n",
    "\n",
    "#Extraction des contours\n",
    "contours, hierarchy = cv2.findContours(thresh, cv2.RETR_TREE, cv2.CHAIN_APPROX_NONE)\n",
    "\n",
    "#Extraction des coordonées des points des contours et centrage de la figure\n",
    "contours = np.array(contours[0]) \n",
    "x_list, y_list = contours[:, :, 0].reshape(-1,), -contours[:, :, 1].reshape(-1,)\n",
    "x_list = x_list - np.mean(x_list)\n",
    "y_list = y_list - np.mean(y_list)\n",
    "\n",
    "#Affichage\n",
    "fig = plt.figure()\n",
    "ax = fig.add_subplot(111)\n",
    "ax.plot(x_list, y_list)\n",
    "\n",
    "#Enregistre les limites de la figure \n",
    "xlim_data = plt.xlim() \n",
    "ylim_data = plt.ylim()\n",
    "plt.show()\n",
    "\n"
   ]
  },
  {
   "cell_type": "markdown",
   "id": "cf5fd7e6",
   "metadata": {},
   "source": [
    "## Extraction des coefficients de fourier ##"
   ]
  },
  {
   "cell_type": "code",
   "execution_count": 70,
   "id": "2d0f49bc",
   "metadata": {},
   "outputs": [],
   "source": [
    "tau = 2*np.pi\n",
    "t_list = np.linspace(0, tau, len(x_list)) #liste allant de 0 à 2pi\n",
    "\n",
    "#Expression des coordonnées sous formes complexe\n",
    "def f(t, t_list, x_list, y_list):\n",
    "    return np.interp(t, t_list, x_list + 1j*y_list)\n",
    "\n",
    "#nombre de coefficients de fourier désiré\n",
    "order = 50\n",
    "\n",
    "#Calcul des coefficients de fourier\n",
    "c = [] \n",
    "for n in range(-order, order+1):\n",
    "    coef = 1/tau*quad_vec(lambda t: f(t, t_list, x_list, y_list)*np.exp(-n*t*1j), 0, tau, limit=100, full_output=1)[0]\n",
    "    c.append(coef)\n",
    "\n",
    "c = np.array(c)\n"
   ]
  },
  {
   "cell_type": "markdown",
   "id": "a139ee5a",
   "metadata": {},
   "source": [
    "## Dessin à partir des coefficients de fourier ##"
   ]
  },
  {
   "cell_type": "code",
   "execution_count": 4,
   "id": "9d3f33d6",
   "metadata": {},
   "outputs": [],
   "source": [
    "#Classement des coefficients dans l'ordre\n",
    "def sort_coeff(coeffs):\n",
    "    new_coeffs = []\n",
    "    new_coeffs.append(coeffs[order])\n",
    "    for i in range(1, order+1):\n",
    "        new_coeffs.extend([coeffs[order+i],coeffs[order-i]])\n",
    "    return np.array(new_coeffs)\n",
    "\n",
    "draw_x, draw_y = [], [] #integrer dans la fonction et à retourner si on veut juste obtenir la liste des coordonnées des points\n",
    "\n",
    "def make_frame(i, time, coeffs):\n",
    "    \n",
    "    # extraction du temps\n",
    "    t = time[i]\n",
    "\n",
    "    # calcul du terme exponentielle permettant de faire tourner le cercle\n",
    "    exp_term = np.array([np.exp(n*t*1j) for n in range(-order, order+1)])\n",
    "\n",
    "    # classement des coefficients par ordre décroissant\n",
    "    coeffs = sort_coeff(coeffs*exp_term) \n",
    "\n",
    "    # Extraction des infos sur x et y\n",
    "    x_coeffs = np.real(coeffs)\n",
    "    y_coeffs = np.imag(coeffs)\n",
    "\n",
    "    # centre initial de la figure\n",
    "    center_x, center_y = 0, 0\n",
    "    \n",
    "    # calcul la position du centre du cercle suivant\n",
    "    for i, (x_coeff, y_coeff) in enumerate(zip(x_coeffs, y_coeffs)):\n",
    "        center_x, center_y = center_x + x_coeff, center_y + y_coeff\n",
    "    \n",
    "    #à chaque instant t, le point est la position du dernier 'centre'\n",
    "    draw_x.append(center_x)\n",
    "    draw_y.append(center_y)\n",
    "\n",
    "    # dessine la ligne entre les deux dernier points\n",
    "    drawing.set_data(draw_x, draw_y)"
   ]
  },
  {
   "cell_type": "code",
   "execution_count": 5,
   "id": "cfe8c7b6",
   "metadata": {},
   "outputs": [
    {
     "name": "stdout",
     "output_type": "stream",
     "text": [
      "drawing completed\n"
     ]
    },
    {
     "data": {
      "image/png": "[encoded data removed]",
      "text/plain": [
       "<Figure size 640x480 with 1 Axes>"
      ]
     },
     "metadata": {},
     "output_type": "display_data"
    }
   ],
   "source": [
    "#Animation\n",
    "Writer = animation.writers['ffmpeg']\n",
    "writer = Writer(fps=15, metadata=dict(artist='Me'), bitrate=1800)\n",
    "\n",
    "# make figure for animation\n",
    "fig, ax = plt.subplots()\n",
    "\n",
    "# drawing is plot of final drawing\n",
    "drawing, = ax.plot([], [], 'k-', linewidth=2)\n",
    "\n",
    "# to fix the size of figure so that the figure does not get cropped/trimmed\n",
    "ax.set_xlim(xlim_data[0], xlim_data[1])\n",
    "ax.set_ylim(ylim_data[0], ylim_data[1])\n",
    "\n",
    "# hide axes\n",
    "ax.set_axis_off()\n",
    "\n",
    "# to have symmetric axes\n",
    "ax.set_aspect('equal')\n",
    "\n",
    "frames = 300\n",
    "time = np.linspace(0, tau, num=frames)\n",
    "anim = animation.FuncAnimation(fig, make_frame, frames=frames, fargs=(time, c),interval=5)\n",
    "#save figure\n",
    "#anim.save('epicycle_test2.mp4', writer=writer)\n",
    "print(\"drawing completed\")"
   ]
  },
  {
   "cell_type": "markdown",
   "id": "e95e0a6c",
   "metadata": {},
   "source": [
    "## Extraction des coordonnées des points à partir des coefficients de Fourier ##"
   ]
  },
  {
   "cell_type": "code",
   "execution_count": 71,
   "id": "e03841d9",
   "metadata": {},
   "outputs": [],
   "source": [
    "#Classement des coefficients dans l'ordre\n",
    "def sort_coeff(coeffs):\n",
    "    new_coeffs = []\n",
    "    new_coeffs.append(coeffs[order])\n",
    "    for i in range(1, order+1):\n",
    "        new_coeffs.extend([coeffs[order+i],coeffs[order-i]])\n",
    "    return np.array(new_coeffs)\n",
    "\n",
    "\n",
    "new_list_x, new_list_y = [], []\n",
    "def extract_coordo(i, time, coeffs):\n",
    "    \n",
    "    # extraction du temps\n",
    "    t = time[i]\n",
    "\n",
    "    # calcul du terme exponentielle permettant de faire tourner le cercle\n",
    "    exp_term = np.array([np.exp(n*t*1j) for n in range(-order, order+1)])\n",
    "\n",
    "    # classement des coefficients par ordre décroissant\n",
    "    coeffs = sort_coeff(coeffs*exp_term) \n",
    "\n",
    "    # Extraction des infos sur x et y\n",
    "    x_coeffs = np.real(coeffs)\n",
    "    y_coeffs = np.imag(coeffs)\n",
    "\n",
    "    # centre initial de la figure\n",
    "    center_x, center_y = 0, 0\n",
    "    \n",
    "    # calcul la position du centre du cercle suivant\n",
    "    for i, (x_coeff, y_coeff) in enumerate(zip(x_coeffs, y_coeffs)):\n",
    "        center_x, center_y = center_x + x_coeff, center_y + y_coeff\n",
    "    \n",
    "    #à chaque instant t, le point est la position du dernier 'centre'\n",
    "    new_list_x.append(center_x)\n",
    "    new_list_y.append(center_y)\n",
    "    \n"
   ]
  },
  {
   "cell_type": "code",
   "execution_count": 72,
   "id": "3f2c7b75",
   "metadata": {},
   "outputs": [
    {
     "data": {
      "image/png": "[encoded data removed]",
      "text/plain": [
       "<Figure size 640x480 with 1 Axes>"
      ]
     },
     "metadata": {},
     "output_type": "display_data"
    }
   ],
   "source": [
    "frames = 100 #nb d'échantillon\n",
    "time = np.linspace(0, tau, num=frames) \n",
    "\n",
    "for i in range(frames):\n",
    "    extract_coordo(i, time, c)\n",
    "    \n",
    "#Affichage simple des points\n",
    "plt.scatter(new_list_x,new_list_y)\n",
    "plt.axis('off')\n",
    "plt.show()"
   ]
  },
  {
   "cell_type": "markdown",
   "id": "091a87d8",
   "metadata": {},
   "source": [
    "## Draw lines & transform in image ##"
   ]
  },
  {
   "cell_type": "markdown",
   "id": "538af59e",
   "metadata": {},
   "source": [
    "### Methode 1 : Via MatplotLib"
   ]
  },
  {
   "cell_type": "code",
   "execution_count": 31,
   "id": "eca76721",
   "metadata": {},
   "outputs": [
    {
     "data": {
      "image/png": "[encoded data removed]",
      "text/plain": [
       "<Figure size 640x480 with 1 Axes>"
      ]
     },
     "metadata": {},
     "output_type": "display_data"
    }
   ],
   "source": [
    "# Tracer les lignes reliant les points\n",
    "plt.plot(new_list_x, new_list_y, color='black')\n",
    "\n",
    "# Remplir les pixels situés à l'intérieur des lignes tracées\n",
    "plt.fill(new_list_x, new_list_y, color='black')\n",
    "plt.axis('off')\n",
    "\n",
    "#Enregistrement de l'image\n",
    "plt.savefig('image.png', format='png')\n",
    "\n",
    "# Afficher l'image binaire\n",
    "plt.show()\n"
   ]
  },
  {
   "cell_type": "code",
   "execution_count": 60,
   "id": "485bc1e2",
   "metadata": {},
   "outputs": [],
   "source": [
    "#On récupère l'image\n",
    "img_reconstruite = cv2.imread(\"image.png\")\n",
    "\n",
    "#On resize\n",
    "resized_image = cv2.resize(img_reconstruite, (28, 28))\n",
    "\n",
    "#On rend binaire le masque\n",
    "resized_image = resized_image/255\n",
    "resized_image = (resized_image[:,:,0] + resized_image[:,:,1] + resized_image[:,:,2])/3\n",
    "\n",
    "resized_image[resized_image >= 0.5] = 1\n",
    "resized_image[resized_image < 0.5] = 0\n"
   ]
  },
  {
   "cell_type": "code",
   "execution_count": 79,
   "id": "201a9ef9",
   "metadata": {},
   "outputs": [
    {
     "data": {
      "text/plain": [
       "<matplotlib.image.AxesImage at 0x1a0a0deee50>"
      ]
     },
     "execution_count": 79,
     "metadata": {},
     "output_type": "execute_result"
    },
    {
     "data": {
      "image/png": "[encoded data removed]",
      "text/plain": [
       "<Figure size 640x480 with 1 Axes>"
      ]
     },
     "metadata": {},
     "output_type": "display_data"
    }
   ],
   "source": [
    "#Affichage du masque\n",
    "plt.imshow(resized_image,cmap='gray')"
   ]
  },
  {
   "cell_type": "markdown",
   "id": "c1f8b01d",
   "metadata": {},
   "source": [
    "### Methode 2 : avec noyau gaussien et pytorch ###"
   ]
  },
  {
   "cell_type": "code",
   "execution_count": 73,
   "id": "ee1dea75",
   "metadata": {},
   "outputs": [],
   "source": [
    "import torch as tch"
   ]
  },
  {
   "cell_type": "code",
   "execution_count": 100,
   "id": "7f68f6b8",
   "metadata": {},
   "outputs": [],
   "source": [
    "# Paramètres de la distribution gaussienne\n",
    "ecart_type = 1\n",
    "\n",
    "# Créer une grille de coordonnées X et Y\n",
    "X, Y = tch.meshgrid(tch.linspace(xlim_data[0], xlim_data[1], 28), tch.linspace(ylim_data[0], ylim_data[1], 28), indexing ='xy')\n",
    "\n",
    "# Créer une image vide\n",
    "img_gaussienne = tch.zeros(28,28)\n",
    "\n",
    "# Pour chaque point dans les listes new_list_x et new_list_y\n",
    "for x, y in zip(new_list_x, new_list_y):\n",
    "    # Calculer la gaussienne centrée en ce point\n",
    "    gaussienne = tch.exp(-((X - x) ** 2 + (Y - y) ** 2) / (2 * ecart_type ** 2))\n",
    "    # Puis les additionner dans une image\n",
    "    img_gaussienne += gaussienne\n"
   ]
  },
  {
   "cell_type": "code",
   "execution_count": 101,
   "id": "a6dcfa53",
   "metadata": {},
   "outputs": [
    {
     "data": {
      "text/plain": [
       "<matplotlib.image.AxesImage at 0x1beec62f5d0>"
      ]
     },
     "execution_count": 101,
     "metadata": {},
     "output_type": "execute_result"
    },
    {
     "data": {
      "image/png": "[encoded data removed]",
      "text/plain": [
       "<Figure size 640x480 with 1 Axes>"
      ]
     },
     "metadata": {},
     "output_type": "display_data"
    }
   ],
   "source": [
    "#Affichage de l'image\n",
    "plt.imshow(img_gaussienne,cmap='gray')"
   ]
  },
  {
   "cell_type": "code",
   "execution_count": 102,
   "id": "616f8b19",
   "metadata": {},
   "outputs": [
    {
     "data": {
      "text/plain": [
       "torch.Size([28, 28])"
      ]
     },
     "execution_count": 102,
     "metadata": {},
     "output_type": "execute_result"
    }
   ],
   "source": [
    "img_gaussienne.shape"
   ]
  },
  {
   "cell_type": "markdown",
   "id": "be4ec84b",
   "metadata": {},
   "source": [
    "### Extract coef new method ###"
   ]
  },
  {
   "cell_type": "code",
   "execution_count": 275,
   "id": "61c43508",
   "metadata": {},
   "outputs": [],
   "source": [
    "from torch.fft import fft, fftshift\n",
    "\n",
    "list_coordo_x = tch.tensor([2,2,2,2,2,2,2,2,2,3/2,1, 1/2,0,-1/2,-1,-3/2,-2,-2,-2,-2,-2,-2,-2,-2,-2,-3/2, -1,-1/2, 0, 1/2, 1, 3/2])\n",
    "list_coordo_y = tch.tensor([2, 3/2, 1, 1/2, 0, -1/2, -1, -3/2, -2, -2, -2, -2, -2, -2, -2, -2, -2, -3/2, -1, -1/2, 0, 1/2, 1, 3/2, 2, 2, 2, 2, 2,2, 2, 2])\n",
    "\n",
    "#Coordonnées des points en complexe\n",
    "z_list = list_coordo_x + 1j * list_coordo_y\n",
    "\n",
    "#Transformée de Fourier\n",
    "f_z = fft(z_list)\n",
    "f_z = fftshift(f_z)\n",
    "\n",
    "#Indices des coefficients de fourier\n",
    "N = tch.arange(-len(f_z)/2, len(f_z)/2)\n",
    "\n",
    "#Extraction des phases\n",
    "Arg_fz = tch.angle(f_z).reshape(len(z_list),)\n",
    "\n",
    "#Tri des phases par ordre decroissant\n",
    "sort_idx = tch.argsort(Arg_fz, descending = True)\n",
    "f_z = f_z[sort_idx]\n",
    "N = N[sort_idx]\n",
    "\n",
    "#Echelle de temps\n",
    "time2 = tch.linspace(0, 1, steps=100).reshape(100,1)\n",
    "\n",
    "#Selection des indices\n",
    "sub = tch.arange(0,len(z_list))\n",
    "N_sub = N[sub].reshape(1,len(z_list))\n",
    "N_sub = N_sub.to(tch.complex64)\n",
    "\n",
    "#Matrice complexe contenant les termes de la transformée inverse de Fourier.\n",
    "TN = tch.exp(1j * 2 * tch.pi * time2 @ N_sub)\n",
    "\n",
    "#Reconstruction du signal\n",
    "Z = TN @ (f_z[sub]/len(f_z))"
   ]
  },
  {
   "cell_type": "code",
   "execution_count": 276,
   "id": "c0153396",
   "metadata": {},
   "outputs": [
    {
     "data": {
      "text/plain": [
       "[<matplotlib.lines.Line2D at 0x1bef3911390>]"
      ]
     },
     "execution_count": 276,
     "metadata": {},
     "output_type": "execute_result"
    },
    {
     "data": {
      "image/png": "[encoded data removed]",
      "text/plain": [
       "<Figure size 640x480 with 1 Axes>"
      ]
     },
     "metadata": {},
     "output_type": "display_data"
    }
   ],
   "source": [
    "plt.scatter(list_coordo_x, list_coordo_y, color='red')\n",
    "plt.plot(tch.real(Z),tch.imag(Z))"
   ]
  },
  {
   "cell_type": "code",
   "execution_count": 277,
   "id": "79cb3d9d",
   "metadata": {},
   "outputs": [],
   "source": [
    "#Exemple avec image\n",
    "\n",
    "#Coordonnées des points en complexe\n",
    "z_list_2 = x_list + 1j * y_list\n",
    "\n",
    "#Transformée de Fourier discrète\n",
    "z_list_2 = tch.tensor(z_list_2).reshape(len(z_list_2),1)\n",
    "fz_2 = fft(z_list_2)\n",
    "fz_2 = fftshift(fz_2)\n",
    "\n",
    "#Indices des coefficients de fourier\n",
    "N_2 = tch.arange(-len(fz_2)/2, len(fz_2)/2)\n",
    "\n",
    "#Extraction de la phase des coordonnées exprimées en Fourier\n",
    "Arg_fz_2 = tch.angle(fz_2).reshape(len(z_list_2),) \n",
    "\n",
    "#Tri des phases par ordre décroissant\n",
    "sort_idx_2 = tch.argsort(Arg_fz_2, descending = True)\n",
    "fz_2 = fz_2[sort_idx_2]\n",
    "N_2 = N_2[sort_idx_2]\n",
    "\n",
    "#Sequence temporelle\n",
    "time2 = tch.linspace(0, 2*tch.pi, steps=100).reshape(100,1)\n",
    "\n",
    "#Selection des indices\n",
    "sub2 = tch.arange(0,len(z_list_2))\n",
    "N_sub2 = N_2[sub2].reshape(1,len(N_2))\n",
    "N_sub2 = N_sub2.to(tch.complex64)\n"
   ]
  },
  {
   "cell_type": "code",
   "execution_count": 278,
   "id": "ef0e260c",
   "metadata": {},
   "outputs": [],
   "source": [
    "#Matrice transformée inverse de Fourier\n",
    "TN2 = tch.exp(1j * 2 * tch.pi * time2 @ N_sub2)"
   ]
  },
  {
   "cell_type": "code",
   "execution_count": 279,
   "id": "8c9664a3",
   "metadata": {},
   "outputs": [],
   "source": [
    "#Reconstruction du signal \n",
    "Z2 = TN2.to(tch.complex128) @ (fz_2[sub2]/len(fz_2))"
   ]
  },
  {
   "cell_type": "code",
   "execution_count": 280,
   "id": "722fc1ac",
   "metadata": {},
   "outputs": [
    {
     "data": {
      "text/plain": [
       "<matplotlib.collections.PathCollection at 0x1beec3c41d0>"
      ]
     },
     "execution_count": 280,
     "metadata": {},
     "output_type": "execute_result"
    },
    {
     "data": {
      "image/png": "[encoded data removed]",
      "text/plain": [
       "<Figure size 640x480 with 1 Axes>"
      ]
     },
     "metadata": {},
     "output_type": "display_data"
    }
   ],
   "source": [
    "plt.scatter(tch.real(Z2),tch.imag(Z2))"
   ]
  },
  {
   "cell_type": "code",
   "execution_count": null,
   "id": "7542e44d",
   "metadata": {},
   "outputs": [],
   "source": []
  }
 ],
 "metadata": {
  "kernelspec": {
   "display_name": "Python 3 (ipykernel)",
   "language": "python",
   "name": "python3"
  },
  "language_info": {
   "codemirror_mode": {
    "name": "ipython",
    "version": 3
   },
   "file_extension": ".py",
   "mimetype": "text/x-python",
   "name": "python",
   "nbconvert_exporter": "python",
   "pygments_lexer": "ipython3",
   "version": "3.11.4"
  }
 },
 "nbformat": 4,
 "nbformat_minor": 5
}
